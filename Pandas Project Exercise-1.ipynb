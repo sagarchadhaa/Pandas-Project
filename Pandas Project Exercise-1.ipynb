{
 "cells": [
  {
   "cell_type": "code",
   "execution_count": 1,
   "metadata": {},
   "outputs": [],
   "source": [
    "%matplotlib inline\n",
    "import pandas as pd\n",
    "import numpy as np\n",
    "import matplotlib.pyplot as plt\n",
    "import seaborn as sns"
   ]
  },
  {
   "cell_type": "code",
   "execution_count": 2,
   "metadata": {},
   "outputs": [
    {
     "data": {
      "text/html": [
       "<div>\n",
       "<style scoped>\n",
       "    .dataframe tbody tr th:only-of-type {\n",
       "        vertical-align: middle;\n",
       "    }\n",
       "\n",
       "    .dataframe tbody tr th {\n",
       "        vertical-align: top;\n",
       "    }\n",
       "\n",
       "    .dataframe thead th {\n",
       "        text-align: right;\n",
       "    }\n",
       "</style>\n",
       "<table border=\"1\" class=\"dataframe\">\n",
       "  <thead>\n",
       "    <tr style=\"text-align: right;\">\n",
       "      <th></th>\n",
       "      <th>title</th>\n",
       "      <th>year</th>\n",
       "      <th>name</th>\n",
       "      <th>type</th>\n",
       "      <th>character</th>\n",
       "      <th>n</th>\n",
       "    </tr>\n",
       "  </thead>\n",
       "  <tbody>\n",
       "    <tr>\n",
       "      <th>0</th>\n",
       "      <td>Closet Monster</td>\n",
       "      <td>2015</td>\n",
       "      <td>Buffy #1</td>\n",
       "      <td>actor</td>\n",
       "      <td>Buffy 4</td>\n",
       "      <td>NaN</td>\n",
       "    </tr>\n",
       "    <tr>\n",
       "      <th>1</th>\n",
       "      <td>Suuri illusioni</td>\n",
       "      <td>1985</td>\n",
       "      <td>Homo $</td>\n",
       "      <td>actor</td>\n",
       "      <td>Guests</td>\n",
       "      <td>22.0</td>\n",
       "    </tr>\n",
       "    <tr>\n",
       "      <th>2</th>\n",
       "      <td>Battle of the Sexes</td>\n",
       "      <td>2017</td>\n",
       "      <td>$hutter</td>\n",
       "      <td>actor</td>\n",
       "      <td>Bobby Riggs Fan</td>\n",
       "      <td>10.0</td>\n",
       "    </tr>\n",
       "    <tr>\n",
       "      <th>3</th>\n",
       "      <td>Secret in Their Eyes</td>\n",
       "      <td>2015</td>\n",
       "      <td>$hutter</td>\n",
       "      <td>actor</td>\n",
       "      <td>2002 Dodger Fan</td>\n",
       "      <td>NaN</td>\n",
       "    </tr>\n",
       "    <tr>\n",
       "      <th>4</th>\n",
       "      <td>Steve Jobs</td>\n",
       "      <td>2015</td>\n",
       "      <td>$hutter</td>\n",
       "      <td>actor</td>\n",
       "      <td>1988 Opera House Patron</td>\n",
       "      <td>NaN</td>\n",
       "    </tr>\n",
       "  </tbody>\n",
       "</table>\n",
       "</div>"
      ],
      "text/plain": [
       "                  title  year      name   type                character     n\n",
       "0        Closet Monster  2015  Buffy #1  actor                  Buffy 4   NaN\n",
       "1       Suuri illusioni  1985    Homo $  actor                   Guests  22.0\n",
       "2   Battle of the Sexes  2017   $hutter  actor          Bobby Riggs Fan  10.0\n",
       "3  Secret in Their Eyes  2015   $hutter  actor          2002 Dodger Fan   NaN\n",
       "4            Steve Jobs  2015   $hutter  actor  1988 Opera House Patron   NaN"
      ]
     },
     "execution_count": 2,
     "metadata": {},
     "output_type": "execute_result"
    }
   ],
   "source": [
    "data = pd.read_csv('cast.csv')\n",
    "data.head()"
   ]
  },
  {
   "cell_type": "code",
   "execution_count": 3,
   "metadata": {},
   "outputs": [
    {
     "data": {
      "text/plain": [
       "title             2\n",
       "year              0\n",
       "name              0\n",
       "type              0\n",
       "character         5\n",
       "n            407926\n",
       "dtype: int64"
      ]
     },
     "execution_count": 3,
     "metadata": {},
     "output_type": "execute_result"
    }
   ],
   "source": [
    "data.isnull().sum()"
   ]
  },
  {
   "cell_type": "code",
   "execution_count": 4,
   "metadata": {},
   "outputs": [],
   "source": [
    "data.title.fillna(data.title.mode()[0],inplace=True)"
   ]
  },
  {
   "cell_type": "code",
   "execution_count": 5,
   "metadata": {},
   "outputs": [],
   "source": [
    "data.character.fillna(data.character.mode()[0],inplace=True)"
   ]
  },
  {
   "cell_type": "code",
   "execution_count": 6,
   "metadata": {},
   "outputs": [],
   "source": [
    "data.n.fillna(data.n.mean(),inplace=True)"
   ]
  },
  {
   "cell_type": "code",
   "execution_count": 7,
   "metadata": {},
   "outputs": [
    {
     "data": {
      "text/plain": [
       "title        0\n",
       "year         0\n",
       "name         0\n",
       "type         0\n",
       "character    0\n",
       "n            0\n",
       "dtype: int64"
      ]
     },
     "execution_count": 7,
     "metadata": {},
     "output_type": "execute_result"
    }
   ],
   "source": [
    "data.isnull().sum()"
   ]
  },
  {
   "cell_type": "markdown",
   "metadata": {
    "collapsed": true
   },
   "source": [
    "### How many movies are listed in the titles dataframe?"
   ]
  },
  {
   "cell_type": "code",
   "execution_count": 8,
   "metadata": {},
   "outputs": [
    {
     "data": {
      "text/plain": [
       "title\n",
       "Around the World in Eighty Days    385\n",
       "7 cajas                            191\n",
       "The Dark Knight Rises              173\n",
       "The Ten Commandments               167\n",
       "The Buccaneer                      158\n",
       "                                  ... \n",
       "Jing wang shuang xiong               1\n",
       "Dei ha ching                         1\n",
       "Cheung duen geuk ji luen             1\n",
       "'O' nu                               1\n",
       "Mechenye                             1\n",
       "Name: count, Length: 150893, dtype: int64"
      ]
     },
     "execution_count": 8,
     "metadata": {},
     "output_type": "execute_result"
    }
   ],
   "source": [
    "data.title.value_counts()"
   ]
  },
  {
   "cell_type": "code",
   "execution_count": 9,
   "metadata": {},
   "outputs": [
    {
     "name": "stdout",
     "output_type": "stream",
     "text": [
      " There are 150893 movies are listed in the titles dataframe.\n"
     ]
    }
   ],
   "source": [
    "print(\" There are 150893 movies are listed in the titles dataframe.\")"
   ]
  },
  {
   "cell_type": "markdown",
   "metadata": {
    "collapsed": true
   },
   "source": [
    "### What are the earliest two films listed in the titles dataframe?"
   ]
  },
  {
   "cell_type": "code",
   "execution_count": 10,
   "metadata": {},
   "outputs": [
    {
     "data": {
      "text/plain": [
       "0     Closet Monster\n",
       "1    Suuri illusioni\n",
       "Name: title, dtype: object"
      ]
     },
     "execution_count": 10,
     "metadata": {},
     "output_type": "execute_result"
    }
   ],
   "source": [
    "data.title.head(2)"
   ]
  },
  {
   "cell_type": "code",
   "execution_count": 11,
   "metadata": {},
   "outputs": [
    {
     "name": "stdout",
     "output_type": "stream",
     "text": [
      "Closet Monster and Suuri illusioni are the earliest two films listed in the titles dataframe\n"
     ]
    }
   ],
   "source": [
    "print(\"Closet Monster and Suuri illusioni are the earliest two films listed in the titles dataframe\")"
   ]
  },
  {
   "cell_type": "markdown",
   "metadata": {
    "collapsed": true
   },
   "source": [
    "### How many movies have the title \"Hamlet\"?"
   ]
  },
  {
   "cell_type": "code",
   "execution_count": 12,
   "metadata": {},
   "outputs": [
    {
     "name": "stdout",
     "output_type": "stream",
     "text": [
      "312\n"
     ]
    }
   ],
   "source": [
    "hamlet_count_in_title = data['title'].str.contains('Hamlet').sum()\n",
    "print(hamlet_count_in_title)"
   ]
  },
  {
   "cell_type": "code",
   "execution_count": 13,
   "metadata": {},
   "outputs": [
    {
     "name": "stdout",
     "output_type": "stream",
     "text": [
      "Occurrences of 'Hamlet' in the 'title' column: 312\n"
     ]
    }
   ],
   "source": [
    "print(f\"Occurrences of 'Hamlet' in the 'title' column: {hamlet_count_in_title}\")"
   ]
  },
  {
   "cell_type": "markdown",
   "metadata": {
    "collapsed": true
   },
   "source": [
    "### How many movies are titled \"North by Northwest\"?"
   ]
  },
  {
   "cell_type": "code",
   "execution_count": 14,
   "metadata": {},
   "outputs": [
    {
     "name": "stdout",
     "output_type": "stream",
     "text": [
      "41\n"
     ]
    }
   ],
   "source": [
    "North_by_Northwest_in_title = data[\"title\"].str.contains(\"North by Northwest\").sum()\n",
    "print(North_by_Northwest_in_title)"
   ]
  },
  {
   "cell_type": "code",
   "execution_count": 15,
   "metadata": {},
   "outputs": [
    {
     "name": "stdout",
     "output_type": "stream",
     "text": [
      "Occurences of 'North by Northwest' in title column: 41\n"
     ]
    }
   ],
   "source": [
    "print(f\"Occurences of 'North by Northwest' in title column: {North_by_Northwest_in_title}\")"
   ]
  },
  {
   "cell_type": "markdown",
   "metadata": {
    "collapsed": true
   },
   "source": [
    "### When was the first movie titled \"Hamlet\" made?"
   ]
  },
  {
   "cell_type": "code",
   "execution_count": 16,
   "metadata": {},
   "outputs": [
    {
     "name": "stdout",
     "output_type": "stream",
     "text": [
      "The first year 'Hamlet' was made: 1911\n"
     ]
    }
   ],
   "source": [
    "hamlet_movies = data[data['title'] == 'Hamlet']\n",
    "\n",
    "first_year_hamlet = hamlet_movies['year'].min()\n",
    "\n",
    "print(f\"The first year 'Hamlet' was made: {first_year_hamlet}\")\n"
   ]
  },
  {
   "cell_type": "markdown",
   "metadata": {
    "collapsed": true
   },
   "source": [
    "### List all of the \"Treasure Island\" movies from earliest to most recent."
   ]
  },
  {
   "cell_type": "code",
   "execution_count": 17,
   "metadata": {},
   "outputs": [
    {
     "name": "stdout",
     "output_type": "stream",
     "text": [
      "Treasure Island movies are:\n",
      " 9432       1934\n",
      "13253      1950\n",
      "16246      1985\n",
      "42039      1972\n",
      "55071      1934\n",
      "           ... \n",
      "977651     1920\n",
      "999455     1934\n",
      "1033710    1934\n",
      "1036658    1972\n",
      "1040574    1950\n",
      "Name: year, Length: 81, dtype: int64\n"
     ]
    }
   ],
   "source": [
    "treasure_movies = data[data['title'] == 'Treasure Island']\n",
    "\n",
    "first_year_treasure = treasure_movies['year']\n",
    "\n",
    "print(f\"Treasure Island movies are:\\n {first_year_treasure}\")"
   ]
  },
  {
   "cell_type": "markdown",
   "metadata": {
    "collapsed": true
   },
   "source": [
    "### How many movies were made in the year 1950?"
   ]
  },
  {
   "cell_type": "code",
   "execution_count": 18,
   "metadata": {},
   "outputs": [
    {
     "name": "stdout",
     "output_type": "stream",
     "text": [
      "Number of movies made in the year 1950: 7389\n"
     ]
    }
   ],
   "source": [
    "movies_1950=data[data['year']==1950]\n",
    "\n",
    "num_movies_1950=len(movies_1950)\n",
    "\n",
    "print(f\"Number of movies made in the year 1950: {num_movies_1950}\")"
   ]
  },
  {
   "cell_type": "markdown",
   "metadata": {},
   "source": [
    "### How many movies were made in the year 1960?"
   ]
  },
  {
   "cell_type": "code",
   "execution_count": 19,
   "metadata": {},
   "outputs": [
    {
     "name": "stdout",
     "output_type": "stream",
     "text": [
      "Number of movies made in the year 1960: 5608\n"
     ]
    }
   ],
   "source": [
    "movies_1960=data[data['year']==1960]\n",
    "\n",
    "num_movies_1960=len(movies_1960)\n",
    "\n",
    "print(f\"Number of movies made in the year 1960: {num_movies_1960}\")"
   ]
  },
  {
   "cell_type": "markdown",
   "metadata": {
    "collapsed": true
   },
   "source": [
    "### How many movies were made from 1950 through 1959?"
   ]
  },
  {
   "cell_type": "code",
   "execution_count": 20,
   "metadata": {},
   "outputs": [
    {
     "name": "stdout",
     "output_type": "stream",
     "text": [
      "Number of movies made in the year 1950 to 1959: 67706\n"
     ]
    }
   ],
   "source": [
    "movies_1950_to_1959 = data[(data['year'] >= 1950) & (data['year'] <= 1959)]\n",
    "\n",
    "num_movies_1950_to_1959=len(movies_1950_to_1959)\n",
    "\n",
    "print(f\"Number of movies made in the year 1950 to 1959: {num_movies_1950_to_1959}\")\n",
    "\n",
    "                      "
   ]
  },
  {
   "cell_type": "markdown",
   "metadata": {
    "collapsed": true
   },
   "source": [
    "### In what years has a movie titled \"Batman\" been released?"
   ]
  },
  {
   "cell_type": "code",
   "execution_count": 21,
   "metadata": {},
   "outputs": [
    {
     "name": "stdout",
     "output_type": "stream",
     "text": [
      "\n",
      "Batman Movie Release Years:\n",
      " 95672      1943\n",
      "96186      1943\n",
      "114034     1989\n",
      "119476     1989\n",
      "149767     1989\n",
      "199262     1989\n",
      "211518     1989\n",
      "258721     1943\n",
      "287420     1943\n",
      "379733     1989\n",
      "387956     1943\n",
      "449581     1989\n",
      "468892     1989\n",
      "470065     1989\n",
      "477447     1943\n",
      "477448     1943\n",
      "489980     1989\n",
      "490035     1943\n",
      "492323     1989\n",
      "499977     1989\n",
      "575535     1943\n",
      "592716     1943\n",
      "596448     1989\n",
      "612482     1943\n",
      "618032     1989\n",
      "633157     1989\n",
      "670819     1989\n",
      "706534     1943\n",
      "713064     1943\n",
      "735294     1943\n",
      "746897     1943\n",
      "772267     1943\n",
      "779455     1989\n",
      "808898     1943\n",
      "830209     1989\n",
      "832826     1989\n",
      "880219     1943\n",
      "883681     1989\n",
      "949057     1989\n",
      "966816     1989\n",
      "973056     1943\n",
      "987413     1989\n",
      "1007490    1943\n",
      "1029154    1943\n",
      "1043887    1943\n",
      "Name: year, dtype: int64\n"
     ]
    }
   ],
   "source": [
    "movie_batman=data[data['title']==\"Batman\"]\n",
    "\n",
    "batman_movie_release_year=movie_batman['year']\n",
    "\n",
    "print(f\"\\nBatman Movie Release Years:\\n {batman_movie_release_year}\")"
   ]
  },
  {
   "cell_type": "markdown",
   "metadata": {
    "collapsed": true
   },
   "source": [
    "### How many roles were there in the movie \"Inception\"?"
   ]
  },
  {
   "cell_type": "code",
   "execution_count": 22,
   "metadata": {},
   "outputs": [
    {
     "name": "stdout",
     "output_type": "stream",
     "text": [
      "Number of roles in the movie 'Inception': 27\n"
     ]
    }
   ],
   "source": [
    "inception_roles = data[data['title'] == 'Inception']\n",
    "\n",
    "num_roles_inception = len(inception_roles)\n",
    "\n",
    "print(f\"Number of roles in the movie 'Inception': {num_roles_inception}\")\n"
   ]
  },
  {
   "cell_type": "code",
   "execution_count": 23,
   "metadata": {},
   "outputs": [
    {
     "name": "stdout",
     "output_type": "stream",
     "text": [
      "Number of roles in the movie 'Inception':\n",
      "             title  year                     name   type  \\\n",
      "94333   Inception  2010     Michael (III) August  actor   \n",
      "143138  Inception  2010             Peter Basham  actor   \n",
      "176819  Inception  2010             Tom Berenger  actor   \n",
      "190249  Inception  2010                 Ken Bhan  actor   \n",
      "250191  Inception  2010           Virgile Bramly  actor   \n",
      "314663  Inception  2010            Michael Caine  actor   \n",
      "321091  Inception  2010             Earl Cameron  actor   \n",
      "361119  Inception  2010            John Ceallach  actor   \n",
      "417982  Inception  2010            Nicolas Clerc  actor   \n",
      "428199  Inception  2010           Adam (IV) Cole  actor   \n",
      "498708  Inception  2010       Jean-Michel Dagory  actor   \n",
      "569504  Inception  2010        Leonardo DiCaprio  actor   \n",
      "659835  Inception  2010            Seve Esposito  actor   \n",
      "666157  Inception  2010      Marcus (II) Everett  actor   \n",
      "682511  Inception  2010  Zachary Christopher Fay  actor   \n",
      "684215  Inception  2010                Russ Fega  actor   \n",
      "711192  Inception  2010         Mark Fleischmann  actor   \n",
      "779284  Inception  2010           Michael Gaston  actor   \n",
      "783405  Inception  2010          Johnathan Geare  actor   \n",
      "802478  Inception  2010            Carl Gilliard  actor   \n",
      "803728  Inception  2010              Jack Gilroy  actor   \n",
      "806524  Inception  2010        Daniel Girondeaud  actor   \n",
      "829338  Inception  2010     Joseph Gordon-Levitt  actor   \n",
      "878274  Inception  2010               Lukas Haas  actor   \n",
      "907468  Inception  2010                Tom Hardy  actor   \n",
      "932903  Inception  2010             Ryan Hayward  actor   \n",
      "971196  Inception  2010          Andrew Hoagland  actor   \n",
      "\n",
      "                    character          n  \n",
      "94333           LAX Passenger  16.515828  \n",
      "143138  Fischer's Jet Captain  44.000000  \n",
      "176819               Browning   8.000000  \n",
      "190249       Mombasan Gambler  16.515828  \n",
      "250191         Bridge Sub Con  29.000000  \n",
      "314663                  Miles  11.000000  \n",
      "321091       Elderly Bald Man  20.000000  \n",
      "361119          LAX Passenger  16.515828  \n",
      "417982         Bridge Sub Con  26.000000  \n",
      "428199            Bar Sub Con  34.000000  \n",
      "498708         Bridge Sub Con  30.000000  \n",
      "569504                   Cobb   1.000000  \n",
      "659835        Italian Gambler  16.515828  \n",
      "666157           Stock Broker  16.515828  \n",
      "682511                  Extra  16.515828  \n",
      "684215             Cab Driver  23.000000  \n",
      "711192        Penrose Sub Con  32.000000  \n",
      "779284    Immigration Officer  45.000000  \n",
      "783405        James (3 years)  17.000000  \n",
      "802478          Lobby Sub Con  40.000000  \n",
      "803728               Old Cobb  50.000000  \n",
      "806524         Bridge Sub Con  16.515828  \n",
      "829338                 Arthur   2.000000  \n",
      "878274                   Nash  12.000000  \n",
      "907468                  Eames   4.000000  \n",
      "932903                 Lawyer  21.000000  \n",
      "971196             Pedestrian  16.515828  \n"
     ]
    }
   ],
   "source": [
    "inception_roles = data[data['title'] == 'Inception']\n",
    "\n",
    "num_roles_inception = inception_roles\n",
    "\n",
    "print(f\"Number of roles in the movie 'Inception':\\n {num_roles_inception}\")"
   ]
  },
  {
   "cell_type": "markdown",
   "metadata": {
    "collapsed": true
   },
   "source": [
    "### How many roles in the movie \"Inception\" are NOT ranked by an \"n\" value?"
   ]
  },
  {
   "cell_type": "code",
   "execution_count": 24,
   "metadata": {},
   "outputs": [
    {
     "name": "stdout",
     "output_type": "stream",
     "text": [
      "Number of roles in the movie 'Inception' not ranked by an 'n' value: 0\n"
     ]
    }
   ],
   "source": [
    "inception_unranked_roles = data[(data['title'] == 'Inception') & data['n'].isna()]\n",
    "\n",
    "num_unranked_roles_inception = len(inception_unranked_roles)\n",
    "\n",
    "print(f\"Number of roles in the movie 'Inception' not ranked by an 'n' value: {num_unranked_roles_inception}\")\n"
   ]
  },
  {
   "cell_type": "markdown",
   "metadata": {
    "collapsed": true
   },
   "source": [
    "### But how many roles in the movie \"Inception\" did receive an \"n\" value?"
   ]
  },
  {
   "cell_type": "code",
   "execution_count": 25,
   "metadata": {},
   "outputs": [
    {
     "name": "stdout",
     "output_type": "stream",
     "text": [
      "\n",
      "Roles in the movie Inception did receive an 'n' value are :\n",
      "             title  year                     name   type  \\\n",
      "94333   Inception  2010     Michael (III) August  actor   \n",
      "143138  Inception  2010             Peter Basham  actor   \n",
      "176819  Inception  2010             Tom Berenger  actor   \n",
      "190249  Inception  2010                 Ken Bhan  actor   \n",
      "250191  Inception  2010           Virgile Bramly  actor   \n",
      "314663  Inception  2010            Michael Caine  actor   \n",
      "321091  Inception  2010             Earl Cameron  actor   \n",
      "361119  Inception  2010            John Ceallach  actor   \n",
      "417982  Inception  2010            Nicolas Clerc  actor   \n",
      "428199  Inception  2010           Adam (IV) Cole  actor   \n",
      "498708  Inception  2010       Jean-Michel Dagory  actor   \n",
      "569504  Inception  2010        Leonardo DiCaprio  actor   \n",
      "659835  Inception  2010            Seve Esposito  actor   \n",
      "666157  Inception  2010      Marcus (II) Everett  actor   \n",
      "682511  Inception  2010  Zachary Christopher Fay  actor   \n",
      "684215  Inception  2010                Russ Fega  actor   \n",
      "711192  Inception  2010         Mark Fleischmann  actor   \n",
      "779284  Inception  2010           Michael Gaston  actor   \n",
      "783405  Inception  2010          Johnathan Geare  actor   \n",
      "802478  Inception  2010            Carl Gilliard  actor   \n",
      "803728  Inception  2010              Jack Gilroy  actor   \n",
      "806524  Inception  2010        Daniel Girondeaud  actor   \n",
      "829338  Inception  2010     Joseph Gordon-Levitt  actor   \n",
      "878274  Inception  2010               Lukas Haas  actor   \n",
      "907468  Inception  2010                Tom Hardy  actor   \n",
      "932903  Inception  2010             Ryan Hayward  actor   \n",
      "971196  Inception  2010          Andrew Hoagland  actor   \n",
      "\n",
      "                    character          n  \n",
      "94333           LAX Passenger  16.515828  \n",
      "143138  Fischer's Jet Captain  44.000000  \n",
      "176819               Browning   8.000000  \n",
      "190249       Mombasan Gambler  16.515828  \n",
      "250191         Bridge Sub Con  29.000000  \n",
      "314663                  Miles  11.000000  \n",
      "321091       Elderly Bald Man  20.000000  \n",
      "361119          LAX Passenger  16.515828  \n",
      "417982         Bridge Sub Con  26.000000  \n",
      "428199            Bar Sub Con  34.000000  \n",
      "498708         Bridge Sub Con  30.000000  \n",
      "569504                   Cobb   1.000000  \n",
      "659835        Italian Gambler  16.515828  \n",
      "666157           Stock Broker  16.515828  \n",
      "682511                  Extra  16.515828  \n",
      "684215             Cab Driver  23.000000  \n",
      "711192        Penrose Sub Con  32.000000  \n",
      "779284    Immigration Officer  45.000000  \n",
      "783405        James (3 years)  17.000000  \n",
      "802478          Lobby Sub Con  40.000000  \n",
      "803728               Old Cobb  50.000000  \n",
      "806524         Bridge Sub Con  16.515828  \n",
      "829338                 Arthur   2.000000  \n",
      "878274                   Nash  12.000000  \n",
      "907468                  Eames   4.000000  \n",
      "932903                 Lawyer  21.000000  \n",
      "971196             Pedestrian  16.515828   \n"
     ]
    }
   ],
   "source": [
    "inception_not_null_values = data[(data['title'] == 'Inception') & data['n'].notna()]\n",
    "\n",
    "print(f\"\\nRoles in the movie Inception did receive an 'n' value are :\\n {inception_not_null_values} \")"
   ]
  },
  {
   "cell_type": "markdown",
   "metadata": {
    "collapsed": true
   },
   "source": [
    "### Display the cast of \"North by Northwest\" in their correct \"n\"-value order, ignoring roles that did not earn a numeric \"n\" value."
   ]
  },
  {
   "cell_type": "code",
   "execution_count": 26,
   "metadata": {},
   "outputs": [
    {
     "name": "stdout",
     "output_type": "stream",
     "text": [
      "                      title  year               name   type  \\\n",
      "12151    North by Northwest  1959      Stanley Adams  actor   \n",
      "27852    North by Northwest  1959         Andy Albin  actor   \n",
      "54093    North by Northwest  1959       Don Anderson  actor   \n",
      "54307    North by Northwest  1959    Ernest Anderson  actor   \n",
      "92195    North by Northwest  1959  Malcolm Atterbury  actor   \n",
      "97833    North by Northwest  1959          Tol Avery  actor   \n",
      "109025   North by Northwest  1959         Sam Bagley  actor   \n",
      "114334   North by Northwest  1959        Frank Baker  actor   \n",
      "137656   North by Northwest  1959      Baynes Barron  actor   \n",
      "151717   North by Northwest  1959      Brandon Beach  actor   \n",
      "176030   North by Northwest  1959      John Beradino  actor   \n",
      "198496   North by Northwest  1959       Edward Binns  actor   \n",
      "222299   North by Northwest  1959    Stephen Bolster  actor   \n",
      "343701   North by Northwest  1959     Leo G. Carroll  actor   \n",
      "344204   North by Northwest  1959   Steve Carruthers  actor   \n",
      "350192   North by Northwest  1959      Taggart Casey  actor   \n",
      "356803   North by Northwest  1959      Bill Catching  actor   \n",
      "424676   North by Northwest  1959       Bob (II) Coe  actor   \n",
      "447893   North by Northwest  1959    Philip Coolidge  actor   \n",
      "467714   North by Northwest  1959       David A. Cox  actor   \n",
      "468709   North by Northwest  1959         Walter Coy  actor   \n",
      "479498   North by Northwest  1959        Jimmy Cross  actor   \n",
      "502759   North by Northwest  1959          Jack Daly  actor   \n",
      "503758   North by Northwest  1959        John Damler  actor   \n",
      "581619   North by Northwest  1959    Lawrence Dobkin  actor   \n",
      "605839   North by Northwest  1959    Alphonso DuBois  actor   \n",
      "642085   North by Northwest  1959  Robert Ellenstein  actor   \n",
      "679471   North by Northwest  1959      Tommy Farrell  actor   \n",
      "682655   North by Northwest  1959    Adolph Faylauer  actor   \n",
      "786648   North by Northwest  1959         Paul Genge  actor   \n",
      "808703   North by Northwest  1959          Ned Glass  actor   \n",
      "821927   North by Northwest  1959     James Gonzalez  actor   \n",
      "840374   North by Northwest  1959         Cary Grant  actor   \n",
      "849881   North by Northwest  1959       Tom Greenway  actor   \n",
      "884907   North by Northwest  1959      Robert Haines  actor   \n",
      "891171   North by Northwest  1959        Stuart Hall  actor   \n",
      "944454   North by Northwest  1959         Len Hendry  actor   \n",
      "969404   North by Northwest  1959   Alfred Hitchcock  actor   \n",
      "982746   North by Northwest  1959      Stuart Holmes  actor   \n",
      "1026719  North by Northwest  1959      Hideo Inamura  actor   \n",
      "1041665  North by Northwest  1959     Eugene Jackson  actor   \n",
      "\n",
      "                                 character          n  \n",
      "12151                   Lieutenant Harding  16.515828  \n",
      "27852                               Farmer  16.515828  \n",
      "54093                               Worker  16.515828  \n",
      "54307     Porter on Twentieth Century Ltd.  16.515828  \n",
      "92195              Man at Prairie Crossing  16.515828  \n",
      "97833               State Police Detective  16.515828  \n",
      "109025                 Courtroom Spectator  16.515828  \n",
      "114334                      Man at Auction  16.515828  \n",
      "137656                      Taxi Driver #2  16.515828  \n",
      "151717                      Man at Auction  16.515828  \n",
      "176030              Sergeant Emile Klinger  16.515828  \n",
      "198496                      Captain Junket  15.000000  \n",
      "222299                     Man with Camera  16.515828  \n",
      "343701                       The Professor   5.000000  \n",
      "344204                      Man at Auction  16.515828  \n",
      "350192                         Shaving Man  16.515828  \n",
      "356803                   Auction Attendant  16.515828  \n",
      "424676                    Cropduster Pilot  16.515828  \n",
      "447893                           Dr. Cross  13.000000  \n",
      "467714             Police Officer on Horse  16.515828  \n",
      "468709   U.S. Intelligence Agency Official  16.515828  \n",
      "479498                      Taxi Driver #1  16.515828  \n",
      "502759                       Train Steward  16.515828  \n",
      "503758                   Police Lieutenant  16.515828  \n",
      "581619   U.S. Intelligence Agency Official  16.515828  \n",
      "605839      Man at United Nations Building  16.515828  \n",
      "642085                               Licht  11.000000  \n",
      "679471            Eddie - Elevator Starter  16.515828  \n",
      "682655                         Bald Bidder  16.515828  \n",
      "786648                 Lieutenant Hagerman  16.515828  \n",
      "808703                       Ticket Seller  16.515828  \n",
      "821927                      Man at Auction  16.515828  \n",
      "840374                  Roger O. Thornhill   1.000000  \n",
      "849881       Silent State Police Detective  16.515828  \n",
      "884907      Man at United Nations Building  16.515828  \n",
      "891171                     Train Passenger  16.515828  \n",
      "944454                   Police Lieutenant  16.515828  \n",
      "969404                  Man Who Misses Bus  16.515828  \n",
      "982746                 Hotel Lounge Patron  16.515828  \n",
      "1026719     Man at United Nations Building  16.515828  \n",
      "1041665          Security Guard at Auction  16.515828  \n"
     ]
    }
   ],
   "source": [
    "North_by_Northwest = data[(data['title'] == 'North by Northwest') & data['n'].notna()]\n",
    "\n",
    "print(North_by_Northwest)"
   ]
  },
  {
   "cell_type": "code",
   "execution_count": 27,
   "metadata": {},
   "outputs": [
    {
     "name": "stdout",
     "output_type": "stream",
     "text": [
      "                      name                          character          n\n",
      "840374          Cary Grant                 Roger O. Thornhill   1.000000\n",
      "343701      Leo G. Carroll                      The Professor   5.000000\n",
      "642085   Robert Ellenstein                              Licht  11.000000\n",
      "447893     Philip Coolidge                          Dr. Cross  13.000000\n",
      "198496        Edward Binns                     Captain Junket  15.000000\n",
      "12151        Stanley Adams                 Lieutenant Harding  16.515828\n",
      "581619     Lawrence Dobkin  U.S. Intelligence Agency Official  16.515828\n",
      "605839     Alphonso DuBois     Man at United Nations Building  16.515828\n",
      "679471       Tommy Farrell           Eddie - Elevator Starter  16.515828\n",
      "682655     Adolph Faylauer                        Bald Bidder  16.515828\n",
      "786648          Paul Genge                Lieutenant Hagerman  16.515828\n",
      "808703           Ned Glass                      Ticket Seller  16.515828\n",
      "821927      James Gonzalez                     Man at Auction  16.515828\n",
      "849881        Tom Greenway      Silent State Police Detective  16.515828\n",
      "884907       Robert Haines     Man at United Nations Building  16.515828\n",
      "891171         Stuart Hall                    Train Passenger  16.515828\n",
      "944454          Len Hendry                  Police Lieutenant  16.515828\n",
      "969404    Alfred Hitchcock                 Man Who Misses Bus  16.515828\n",
      "982746       Stuart Holmes                Hotel Lounge Patron  16.515828\n",
      "503758         John Damler                  Police Lieutenant  16.515828\n",
      "502759           Jack Daly                      Train Steward  16.515828\n",
      "468709          Walter Coy  U.S. Intelligence Agency Official  16.515828\n",
      "1026719      Hideo Inamura     Man at United Nations Building  16.515828\n",
      "27852           Andy Albin                             Farmer  16.515828\n",
      "54093         Don Anderson                             Worker  16.515828\n",
      "54307      Ernest Anderson   Porter on Twentieth Century Ltd.  16.515828\n",
      "92195    Malcolm Atterbury            Man at Prairie Crossing  16.515828\n",
      "97833            Tol Avery             State Police Detective  16.515828\n",
      "109025          Sam Bagley                Courtroom Spectator  16.515828\n",
      "114334         Frank Baker                     Man at Auction  16.515828\n",
      "479498         Jimmy Cross                     Taxi Driver #1  16.515828\n",
      "137656       Baynes Barron                     Taxi Driver #2  16.515828\n",
      "176030       John Beradino             Sergeant Emile Klinger  16.515828\n",
      "222299     Stephen Bolster                    Man with Camera  16.515828\n",
      "344204    Steve Carruthers                     Man at Auction  16.515828\n",
      "350192       Taggart Casey                        Shaving Man  16.515828\n",
      "356803       Bill Catching                  Auction Attendant  16.515828\n",
      "424676        Bob (II) Coe                   Cropduster Pilot  16.515828\n",
      "467714        David A. Cox            Police Officer on Horse  16.515828\n",
      "151717       Brandon Beach                     Man at Auction  16.515828\n",
      "1041665     Eugene Jackson          Security Guard at Auction  16.515828\n"
     ]
    }
   ],
   "source": [
    "north_by_northwest = data[(data['title'] == 'North by Northwest') & data['n'].notna()]\n",
    "\n",
    "north_by_northwest_sorted = north_by_northwest.sort_values(by='n')\n",
    "\n",
    "print(north_by_northwest_sorted[['name', 'character', 'n']])\n"
   ]
  },
  {
   "cell_type": "markdown",
   "metadata": {
    "collapsed": true
   },
   "source": [
    "### Display the entire cast, in \"n\"-order, of the 1972 film \"Sleuth\"."
   ]
  },
  {
   "cell_type": "code",
   "execution_count": 28,
   "metadata": {},
   "outputs": [
    {
     "name": "stdout",
     "output_type": "stream",
     "text": [
      "         title  year            name          character    n\n",
      "314691  Sleuth  1972   Michael Caine        Milo Tindle  2.0\n",
      "360365  Sleuth  1972  Alec Cawthorne  Inspector Doppler  3.0\n"
     ]
    }
   ],
   "source": [
    "sleuth_1972 = data[(data['title'] == 'Sleuth') & (data['year'] == 1972)]\n",
    "\n",
    "sleuth_1972_sorted = sleuth_1972.sort_values(by='n')\n",
    "\n",
    "print(sleuth_1972_sorted[['title','year','name', 'character', 'n']])\n"
   ]
  },
  {
   "cell_type": "markdown",
   "metadata": {
    "collapsed": true
   },
   "source": [
    "### Now display the entire cast, in \"n\"-order, of the 2007 version of \"Sleuth\"."
   ]
  },
  {
   "cell_type": "code",
   "execution_count": 29,
   "metadata": {},
   "outputs": [
    {
     "name": "stdout",
     "output_type": "stream",
     "text": [
      "         title  year                 name          character          n\n",
      "314692  Sleuth  2007        Michael Caine             Andrew   1.000000\n",
      "250297  Sleuth  2007      Kenneth Branagh  Other Man on T.V.  16.515828\n",
      "360366  Sleuth  2007  Alec (II) Cawthorne  Inspector Doppler  16.515828\n"
     ]
    }
   ],
   "source": [
    "sleuth_2007 = data[(data['title'] == 'Sleuth') & (data['year'] == 2007)]\n",
    "\n",
    "sleuth_2007_sorted = sleuth_2007.sort_values(by='n')\n",
    "\n",
    "print(sleuth_2007_sorted[['title','year','name', 'character', 'n']])\n"
   ]
  },
  {
   "cell_type": "markdown",
   "metadata": {
    "collapsed": true
   },
   "source": [
    "### How many roles were credited in the silent 1921 version of Hamlet?"
   ]
  },
  {
   "cell_type": "code",
   "execution_count": 30,
   "metadata": {},
   "outputs": [
    {
     "name": "stdout",
     "output_type": "stream",
     "text": [
      "Number of credited roles in the silent 1921 version of Hamlet: 3\n"
     ]
    }
   ],
   "source": [
    "hamlet_1921_cast = data[(data['title'] == 'Hamlet') & (data['year'] == 1921)]\n",
    "\n",
    "num_credited_roles_hamlet_1921 = len(hamlet_1921_cast)\n",
    "\n",
    "print(f\"Number of credited roles in the silent 1921 version of Hamlet: {num_credited_roles_hamlet_1921}\")\n"
   ]
  },
  {
   "cell_type": "markdown",
   "metadata": {
    "collapsed": true
   },
   "source": [
    "### How many roles were credited in Branagh’s 1996 Hamlet?"
   ]
  },
  {
   "cell_type": "code",
   "execution_count": 31,
   "metadata": {},
   "outputs": [
    {
     "name": "stdout",
     "output_type": "stream",
     "text": [
      "Number of credited roles in the silent 1996 version of Hamlet: 24\n"
     ]
    }
   ],
   "source": [
    "hamlet_1996_cast = data[(data['title'] == 'Hamlet') & (data['year'] == 1996)]\n",
    "\n",
    "num_credited_roles_hamlet_1996 = len(hamlet_1996_cast)\n",
    "\n",
    "print(f\"Number of credited roles in the silent 1996 version of Hamlet: {num_credited_roles_hamlet_1996}\")\n"
   ]
  },
  {
   "cell_type": "markdown",
   "metadata": {
    "collapsed": true
   },
   "source": [
    "### How many \"Hamlet\" roles have been listed in all film credits through history?"
   ]
  },
  {
   "cell_type": "code",
   "execution_count": 32,
   "metadata": {},
   "outputs": [
    {
     "name": "stdout",
     "output_type": "stream",
     "text": [
      "Number of credited roles of Hamlet: 113\n"
     ]
    }
   ],
   "source": [
    "hamlet_cast = data[(data['title'] == 'Hamlet')]\n",
    "\n",
    "num_credited_roles_hamlet = len(hamlet_cast)\n",
    "\n",
    "print(f\"Number of credited roles of Hamlet: {num_credited_roles_hamlet}\")\n"
   ]
  },
  {
   "cell_type": "markdown",
   "metadata": {
    "collapsed": true
   },
   "source": [
    "### How many people have played an \"Ophelia\"?"
   ]
  },
  {
   "cell_type": "code",
   "execution_count": 33,
   "metadata": {},
   "outputs": [
    {
     "name": "stdout",
     "output_type": "stream",
     "text": [
      "Number of people who have played the role of 'Ophelia': 4\n"
     ]
    }
   ],
   "source": [
    "ophelia_actors = data[data['character'] == 'Ophelia']\n",
    "\n",
    "num_ophelia_actors = len(ophelia_actors['name'].unique())\n",
    "\n",
    "print(f\"Number of people who have played the role of 'Ophelia': {num_ophelia_actors}\")\n"
   ]
  },
  {
   "cell_type": "markdown",
   "metadata": {
    "collapsed": true
   },
   "source": [
    "### How many people have played a role called \"The Dude\"?"
   ]
  },
  {
   "cell_type": "code",
   "execution_count": 34,
   "metadata": {},
   "outputs": [
    {
     "name": "stdout",
     "output_type": "stream",
     "text": [
      "Number of people who have played the role of 'The Dude': 6\n"
     ]
    }
   ],
   "source": [
    "the_dude_actors=data[data['character']=='The Dude']\n",
    "\n",
    "the_dude_actors_role=len(the_dude_actors['name'].unique())\n",
    "\n",
    "print(f\"Number of people who have played the role of 'The Dude': {the_dude_actors_role}\")"
   ]
  },
  {
   "cell_type": "markdown",
   "metadata": {
    "collapsed": true
   },
   "source": [
    "### How many people have played a role called \"The Stranger\"?"
   ]
  },
  {
   "cell_type": "code",
   "execution_count": 35,
   "metadata": {},
   "outputs": [
    {
     "name": "stdout",
     "output_type": "stream",
     "text": [
      "Number of people who have played the role of 'The Stranger': 80\n"
     ]
    }
   ],
   "source": [
    "the_stranger_actors=data[data['character']=='The Stranger']\n",
    "\n",
    "the_stranger_actors_role=len(the_stranger_actors['name'].unique())\n",
    "\n",
    "print(f\"Number of people who have played the role of 'The Stranger': {the_stranger_actors_role}\")"
   ]
  },
  {
   "cell_type": "markdown",
   "metadata": {
    "collapsed": true
   },
   "source": [
    "### How many roles has Sidney Poitier played throughout his career?"
   ]
  },
  {
   "cell_type": "code",
   "execution_count": 36,
   "metadata": {},
   "outputs": [
    {
     "name": "stdout",
     "output_type": "stream",
     "text": [
      "Number of roles  played by the 'Sidney Poitier': 1\n"
     ]
    }
   ],
   "source": [
    "sidney_poitier=data[data['character']=='Sidney Poitier']\n",
    "\n",
    "sidney_poitier_roles=len(sidney_poitier)\n",
    "\n",
    "print(f\"Number of roles  played by the 'Sidney Poitier': {sidney_poitier_roles}\")\n",
    "\n"
   ]
  },
  {
   "cell_type": "markdown",
   "metadata": {
    "collapsed": true
   },
   "source": [
    "### How many roles has Judi Dench played?"
   ]
  },
  {
   "cell_type": "code",
   "execution_count": 37,
   "metadata": {},
   "outputs": [
    {
     "name": "stdout",
     "output_type": "stream",
     "text": [
      "Number of roles  played by the 'Judi Dench': 0\n"
     ]
    }
   ],
   "source": [
    "judi_dench=data[data['character']=='Judi Dench']\n",
    "\n",
    "judi_dench_roles=len(judi_dench)\n",
    "\n",
    "print(f\"Number of roles  played by the 'Judi Dench': {judi_dench_roles}\")"
   ]
  },
  {
   "cell_type": "markdown",
   "metadata": {
    "collapsed": true
   },
   "source": [
    "### List the supporting roles (having n=2) played by Cary Grant in the 1940s, in order by year."
   ]
  },
  {
   "cell_type": "code",
   "execution_count": 38,
   "metadata": {},
   "outputs": [
    {
     "name": "stdout",
     "output_type": "stream",
     "text": [
      "              name  year             title    character\n",
      "840371  Cary Grant  1940  My Favorite Wife         Nick\n",
      "840381  Cary Grant  1941    Penny Serenade  Roger Adams\n"
     ]
    }
   ],
   "source": [
    "cary_grant_supporting_roles_1940s = data[(data['name'] == 'Cary Grant') & \n",
    "                                          (data['year'].between(1940, 1949)) & \n",
    "                                          (data['n'] == 2)]\n",
    "cary_grant_supporting_roles_1940s_sorted = cary_grant_supporting_roles_1940s.sort_values(by='year')\n",
    "\n",
    "print(cary_grant_supporting_roles_1940s_sorted[['name','year', 'title', 'character']])\n"
   ]
  },
  {
   "cell_type": "markdown",
   "metadata": {
    "collapsed": true
   },
   "source": [
    "### List the leading roles that Cary Grant played in the 1940s in order by year."
   ]
  },
  {
   "cell_type": "code",
   "execution_count": 39,
   "metadata": {},
   "outputs": [
    {
     "name": "stdout",
     "output_type": "stream",
     "text": [
      "              name  year                                 title  \\\n",
      "840397  Cary Grant  1940               The Howards of Virginia   \n",
      "840353  Cary Grant  1940                       His Girl Friday   \n",
      "840399  Cary Grant  1940                The Philadelphia Story   \n",
      "840386  Cary Grant  1941                             Suspicion   \n",
      "840401  Cary Grant  1942                  The Talk of the Town   \n",
      "840377  Cary Grant  1942                 Once Upon a Honeymoon   \n",
      "840344  Cary Grant  1943                     Destination Tokyo   \n",
      "840369  Cary Grant  1943                             Mr. Lucky   \n",
      "840370  Cary Grant  1943                             Mr. Lucky   \n",
      "840378  Cary Grant  1944                      Once Upon a Time   \n",
      "840336  Cary Grant  1944                  Arsenic and Old Lace   \n",
      "840373  Cary Grant  1944             None But the Lonely Heart   \n",
      "840372  Cary Grant  1946                         Night and Day   \n",
      "840375  Cary Grant  1946                             Notorious   \n",
      "840393  Cary Grant  1947      The Bachelor and the Bobby-Soxer   \n",
      "840394  Cary Grant  1947                     The Bishop's Wife   \n",
      "840368  Cary Grant  1948  Mr. Blandings Builds His Dream House   \n",
      "840348  Cary Grant  1948          Every Girl Should Be Married   \n",
      "840357  Cary Grant  1949                I Was a Male War Bride   \n",
      "\n",
      "                    character  \n",
      "840397            Matt Howard  \n",
      "840353           Walter Burns  \n",
      "840399     C. K. Dexter Haven  \n",
      "840386                Johnnie  \n",
      "840401           Leopold Dilg  \n",
      "840377  Patrick 'Pat' O'Toole  \n",
      "840344          Capt. Cassidy  \n",
      "840369              Joe Adams  \n",
      "840370        Joe Bascopolous  \n",
      "840378            Jerry Flynn  \n",
      "840336      Mortimer Brewster  \n",
      "840373             Ernie Mott  \n",
      "840372            Cole Porter  \n",
      "840375                 Devlin  \n",
      "840393            Dick Nugent  \n",
      "840394                 Dudley  \n",
      "840368          Jim Blandings  \n",
      "840348      Dr. Madison Brown  \n",
      "840357  Captain Henri Rochard  \n"
     ]
    }
   ],
   "source": [
    "cary_grant_supporting_roles_1940s = data[(data['name'] == 'Cary Grant') &\n",
    "                                         (data['year'].between(1940, 1949)) &\n",
    "                                         (data['n']==1 )]\n",
    "                                          \n",
    "cary_grant_supporting_roles_1940s_sorted = cary_grant_supporting_roles_1940s.sort_values(by='year')\n",
    "\n",
    "print(cary_grant_supporting_roles_1940s_sorted[['name','year', 'title', 'character']])\n"
   ]
  },
  {
   "cell_type": "markdown",
   "metadata": {
    "collapsed": true
   },
   "source": [
    "### How many roles were available for actors in the 1950s?"
   ]
  },
  {
   "cell_type": "code",
   "execution_count": 40,
   "metadata": {},
   "outputs": [
    {
     "name": "stdout",
     "output_type": "stream",
     "text": [
      " Number of roles available for actors in 1950s : 67706\n"
     ]
    }
   ],
   "source": [
    "roles_1950_available=data[(data['year'].between(1950,1959))]\n",
    "\n",
    "roles_1950s=len(roles_1950_available)\n",
    "\n",
    "print(f\" Number of roles available for actors in 1950s : {roles_1950s}\")\n"
   ]
  },
  {
   "cell_type": "markdown",
   "metadata": {
    "collapsed": true
   },
   "source": [
    "### How many roles were available for actresses in the 1950s?"
   ]
  },
  {
   "cell_type": "code",
   "execution_count": 41,
   "metadata": {},
   "outputs": [
    {
     "name": "stdout",
     "output_type": "stream",
     "text": [
      " Number of roles available for actors in 1950s : 0\n"
     ]
    }
   ],
   "source": [
    "roles_1950_available_actress=data[(data['character']=='Actress') &\n",
    "                           (data['year'].between(1950,1959))]\n",
    "\n",
    "roles_1950s_actress=len(roles_1950_available_actress)\n",
    "\n",
    "print(f\" Number of roles available for actors in 1950s : {roles_1950s_actress}\")"
   ]
  },
  {
   "cell_type": "markdown",
   "metadata": {
    "collapsed": true
   },
   "source": [
    "### How many leading roles (n=1) were available from the beginning of film history through 1980?"
   ]
  },
  {
   "cell_type": "code",
   "execution_count": 42,
   "metadata": {},
   "outputs": [
    {
     "name": "stdout",
     "output_type": "stream",
     "text": [
      "Number of leading roles available for beginning of flim through 1980s : 18968\n"
     ]
    }
   ],
   "source": [
    "leading_roles_available_1980=data[(data['year']<= 1980) &\n",
    "                                  (data['n'] == 1)]\n",
    "leading_roles_available_1980s_n=len(leading_roles_available_1980)\n",
    "\n",
    "print(f\"Number of leading roles available for beginning of flim through 1980s : {leading_roles_available_1980s_n}\")\n",
    "\n"
   ]
  },
  {
   "cell_type": "markdown",
   "metadata": {
    "collapsed": true
   },
   "source": [
    "### How many non-leading roles were available through from the beginning of film history through 1980?"
   ]
  },
  {
   "cell_type": "code",
   "execution_count": 43,
   "metadata": {},
   "outputs": [
    {
     "name": "stdout",
     "output_type": "stream",
     "text": [
      "Number of non leading roles available for beginning of flim through 1980s : 351862\n"
     ]
    }
   ],
   "source": [
    "non_leading_roles_available_1980=data[(data['year']<= 1980) &\n",
    "                                  (data['n'] != 1)]\n",
    "non_leading_roles_available_1980s_n=len(non_leading_roles_available_1980)\n",
    "\n",
    "print(f\"Number of non leading roles available for beginning of flim through 1980s : {non_leading_roles_available_1980s_n}\")"
   ]
  },
  {
   "cell_type": "markdown",
   "metadata": {
    "collapsed": true
   },
   "source": [
    "### How many roles through 1980 were minor enough that they did not warrant a numeric \"n\" rank?"
   ]
  },
  {
   "cell_type": "code",
   "execution_count": 44,
   "metadata": {},
   "outputs": [
    {
     "name": "stdout",
     "output_type": "stream",
     "text": [
      "Roles through 1980 were minor enough that they did not warrant a numeric \"n\" rank : 6628\n"
     ]
    }
   ],
   "source": [
    "roles_through_1980=data[(data['year']==1980) &\n",
    "                        (data['n'].notna())]\n",
    "roles_through_1980_minor=len(roles_through_1980)\n",
    "\n",
    "print(f'Roles through 1980 were minor enough that they did not warrant a numeric \"n\" rank : {roles_through_1980_minor}' )\n"
   ]
  }
 ],
 "metadata": {
  "kernelspec": {
   "display_name": "Python 3 (ipykernel)",
   "language": "python",
   "name": "python3"
  },
  "language_info": {
   "codemirror_mode": {
    "name": "ipython",
    "version": 3
   },
   "file_extension": ".py",
   "mimetype": "text/x-python",
   "name": "python",
   "nbconvert_exporter": "python",
   "pygments_lexer": "ipython3",
   "version": "3.11.5"
  }
 },
 "nbformat": 4,
 "nbformat_minor": 1
}
